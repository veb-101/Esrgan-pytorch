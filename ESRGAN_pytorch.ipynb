{
  "nbformat": 4,
  "nbformat_minor": 0,
  "metadata": {
    "accelerator": "GPU",
    "colab": {
      "name": "ESRGAN_pytorch.ipynb",
      "provenance": [],
      "collapsed_sections": []
    },
    "kernelspec": {
      "display_name": "Python 3",
      "language": "python",
      "name": "python3"
    },
    "language_info": {
      "codemirror_mode": {
        "name": "ipython",
        "version": 3
      },
      "file_extension": ".py",
      "mimetype": "text/x-python",
      "name": "python",
      "nbconvert_exporter": "python",
      "pygments_lexer": "ipython3",
      "version": "3.7.7"
    },
    "toc": {
      "base_numbering": 1,
      "nav_menu": {},
      "number_sections": true,
      "sideBar": true,
      "skip_h1_title": false,
      "title_cell": "Table of Contents",
      "title_sidebar": "Contents",
      "toc_cell": false,
      "toc_position": {},
      "toc_section_display": true,
      "toc_window_display": false
    },
    "varInspector": {
      "cols": {
        "lenName": 16,
        "lenType": 16,
        "lenVar": 40
      },
      "kernels_config": {
        "python": {
          "delete_cmd_postfix": "",
          "delete_cmd_prefix": "del ",
          "library": "var_list.py",
          "varRefreshCmd": "print(var_dic_list())"
        },
        "r": {
          "delete_cmd_postfix": ") ",
          "delete_cmd_prefix": "rm(",
          "library": "var_list.r",
          "varRefreshCmd": "cat(var_dic_list()) "
        }
      },
      "types_to_exclude": [
        "module",
        "function",
        "builtin_function_or_method",
        "instance",
        "_Feature"
      ],
      "window_display": false
    }
  },
  "cells": [
    {
      "cell_type": "code",
      "metadata": {
        "colab": {
          "base_uri": "https://localhost:8080/"
        },
        "id": "8bgUXGjui40a",
        "outputId": "837d465e-4794-42b5-f660-b7987a128336"
      },
      "source": [
        "!nvidia-smi"
      ],
      "execution_count": null,
      "outputs": [
        {
          "output_type": "stream",
          "text": [
            "Sun Feb  7 09:00:49 2021       \n",
            "+-----------------------------------------------------------------------------+\n",
            "| NVIDIA-SMI 460.39       Driver Version: 418.67       CUDA Version: 10.1     |\n",
            "|-------------------------------+----------------------+----------------------+\n",
            "| GPU  Name        Persistence-M| Bus-Id        Disp.A | Volatile Uncorr. ECC |\n",
            "| Fan  Temp  Perf  Pwr:Usage/Cap|         Memory-Usage | GPU-Util  Compute M. |\n",
            "|                               |                      |               MIG M. |\n",
            "|===============================+======================+======================|\n",
            "|   0  Tesla T4            Off  | 00000000:00:04.0 Off |                    0 |\n",
            "| N/A   48C    P8     9W /  70W |      0MiB / 15079MiB |      0%      Default |\n",
            "|                               |                      |                 ERR! |\n",
            "+-------------------------------+----------------------+----------------------+\n",
            "                                                                               \n",
            "+-----------------------------------------------------------------------------+\n",
            "| Processes:                                                                  |\n",
            "|  GPU   GI   CI        PID   Type   Process name                  GPU Memory |\n",
            "|        ID   ID                                                   Usage      |\n",
            "|=============================================================================|\n",
            "|  No running processes found                                                 |\n",
            "+-----------------------------------------------------------------------------+\n"
          ],
          "name": "stdout"
        }
      ]
    },
    {
      "cell_type": "code",
      "metadata": {
        "id": "jLYuG7EqbnTR",
        "colab": {
          "base_uri": "https://localhost:8080/"
        },
        "outputId": "1cdc7e19-e41d-4c57-f960-b566060833aa"
      },
      "source": [
        "from google.colab import drive\n",
        "drive.mount('/content/drive')"
      ],
      "execution_count": null,
      "outputs": [
        {
          "output_type": "stream",
          "text": [
            "Mounted at /content/drive\n"
          ],
          "name": "stdout"
        }
      ]
    },
    {
      "cell_type": "code",
      "metadata": {
        "id": "8DILVg3C5fFa"
      },
      "source": [
        "!pip install -qU wandb\r\n",
        "!wandb login 984196dfc7bc6ae6093fed3667fd5da413300d29"
      ],
      "execution_count": null,
      "outputs": []
    },
    {
      "cell_type": "code",
      "metadata": {
        "id": "sMpN3TjpHOHP",
        "colab": {
          "base_uri": "https://localhost:8080/"
        },
        "cellView": "form",
        "outputId": "03699072-c636-4f32-f6df-0996aa8a540b"
      },
      "source": [
        "# @title Download dataset\n",
        "import os\n",
        "import shutil\n",
        "import time\n",
        "from google_drive_downloader import GoogleDriveDownloader as gdd\n",
        "\n",
        "if not os.path.exists(\"/content/images/valid.zip\"):\n",
        "    # https://drive.google.com/file/d/1ux-mv7250XsgZo-vsk4QIedfGbELl9oZ/view?usp=sharing\n",
        "    # LR - 64x64 images\n",
        "    gdd.download_file_from_google_drive(file_id='1ux-mv7250XsgZo-vsk4QIedfGbELl9oZ',\n",
        "                                        dest_path='./images/valid.zip',\n",
        "                                        unzip=True,\n",
        "                                        showsize=True,\n",
        "                                        )\n",
        "    # !rm -rf /content/images/valid.zip\n",
        "\n",
        "# download scripts\n",
        "!rm -rf *.py\n",
        "time.sleep(2)\n",
        "!wget -q https://raw.githubusercontent.com/veb-101/Esrgan-pytorch/master/trainer.py -O trainer.py\n",
        "!wget -q https://raw.githubusercontent.com/veb-101/Esrgan-pytorch/master/utils.py -O utils.py\n",
        "!wget -q https://raw.githubusercontent.com/veb-101/Esrgan-pytorch/master/models.py -O models.py\n",
        "\n",
        "# https://drive.google.com/file/d/1ak35jClzM1kAf7p4325b5P9CIudfuwWq/view?usp=sharing\n",
        "\n",
        "# if not os.path.exists(\"/content/pretrained.zip\"):\n",
        "#     # https://drive.google.com/file/d/1ak35jClzM1kAf7p4325b5P9CIudfuwWq/view?usp=sharing\n",
        "#     # HR - 256x256 images\n",
        "#     gdd.download_file_from_google_drive(file_id='1ak35jClzM1kAf7p4325b5P9CIudfuwWq',\n",
        "#                                         dest_path='./pretrained.zip',\n",
        "#                                         unzip=True,\n",
        "#                                         showsize=True,\n",
        "#                                         )\n",
        "\n",
        "\n",
        "if not os.path.exists(\"/content/images/train.zip\"):\n",
        "    # https://drive.google.com/file/d/1RGvBO7wVCI4aPNkjy8w-Sl3Kzp2UCqXm/view?usp=sharing\n",
        "    # HR - 256x256 images\n",
        "    gdd.download_file_from_google_drive(file_id='1RGvBO7wVCI4aPNkjy8w-Sl3Kzp2UCqXm',\n",
        "                                        dest_path='./images/train.zip',\n",
        "                                        unzip=True,\n",
        "                                        showsize=True,\n",
        "                                        )\n",
        "    # !rm -rf /content/images/train.zip"
      ],
      "execution_count": null,
      "outputs": [
        {
          "output_type": "stream",
          "text": [
            "Downloading 1ux-mv7250XsgZo-vsk4QIedfGbELl9oZ into ./images/valid.zip... \n",
            "7.9 MiB Done.\n",
            "Unzipping...Done.\n",
            "Downloading 1RGvBO7wVCI4aPNkjy8w-Sl3Kzp2UCqXm into ./images/train.zip... \n",
            "1.3 GiB Done.\n"
          ],
          "name": "stdout"
        }
      ]
    },
    {
      "cell_type": "code",
      "metadata": {
        "id": "YRMnpAkFcx1q",
        "cellView": "form"
      },
      "source": [
        "#@title Setup\n",
        "\n",
        "import trainer\n",
        "import os\n",
        "import random\n",
        "from PIL import Image\n",
        "import numpy as np\n",
        "\n",
        "import torch\n",
        "from torch.utils.data import Dataset, DataLoader\n",
        "import torchvision.transforms.functional as TF\n",
        "import importlib\n",
        "\n",
        "import warnings\n",
        "warnings.simplefilter(\"ignore\", UserWarning)\n",
        "warnings.simplefilter(\"ignore\", RuntimeWarning)\n",
        "\n",
        "seed = 41\n",
        "random.seed(seed)\n",
        "np.random.seed(seed)\n",
        "torch.manual_seed(seed)\n",
        "\n",
        "\n",
        "def get_default_device():\n",
        "    \"\"\"Pick GPU if available, else CPU\"\"\"\n",
        "    if torch.cuda.is_available():\n",
        "        return torch.device(\"cuda\")\n",
        "    else:\n",
        "        return torch.device(\"cpu\")\n",
        "\n",
        "\n",
        "device = get_default_device()\n",
        "\n",
        "\n",
        "class ESR_Dataset(Dataset):\n",
        "    def __init__(self, num_images=9000, path=r\"images\", train=True):\n",
        "        self.path = path\n",
        "        self.is_train = train\n",
        "\n",
        "        if not os.path.exists(self.path):\n",
        "            raise Exception(f\"[!] dataset is not exited\")\n",
        "\n",
        "        self.image_paths = os.listdir(os.path.join(self.path, \"hr\"))\n",
        "\n",
        "        if num_images == -1:\n",
        "            num_images = len(self.image_paths)\n",
        "\n",
        "        \n",
        "        self.image_file_name = np.random.choice(self.image_paths, size=num_images, replace=False)\n",
        "\n",
        "        if not train:\n",
        "            self.image_file_name = sorted(self.image_file_name)\n",
        "        \n",
        "\n",
        "        self.mean = np.array([0.485, 0.456, 0.406])\n",
        "        self.std = np.array([0.229, 0.224, 0.225])\n",
        "        \n",
        "    def __getitem__(self, item):\n",
        "        file_name = self.image_file_name[item]\n",
        "        high_resolution = Image.open(os.path.join(self.path, \"hr\", file_name)).convert(\n",
        "            \"RGB\"\n",
        "        )\n",
        "        low_resolution = Image.open(os.path.join(self.path, \"lr\", file_name)).convert(\n",
        "            \"RGB\"\n",
        "        )\n",
        "\n",
        "        if self.is_train:\n",
        "            if random.random() > 0.5:\n",
        "                high_resolution = TF.vflip(high_resolution)\n",
        "                low_resolution = TF.vflip(low_resolution)\n",
        "\n",
        "            if random.random() > 0.5:\n",
        "                high_resolution = TF.hflip(high_resolution)\n",
        "                low_resolution = TF.hflip(low_resolution)\n",
        "\n",
        "            if random.random() > 0.5:\n",
        "                high_resolution = TF.rotate(high_resolution, 90)\n",
        "                low_resolution = TF.rotate(low_resolution, 90)\n",
        "\n",
        "        high_resolution = TF.to_tensor(high_resolution)\n",
        "        low_resolution = TF.to_tensor(low_resolution)\n",
        "\n",
        "        high_resolution = TF.normalize(high_resolution, self.mean, self.std)\n",
        "        low_resolution = TF.normalize(low_resolution, self.mean, self.std)\n",
        "\n",
        "        images = {\"lr\": low_resolution, \"hr\": high_resolution}\n",
        "\n",
        "        return images\n",
        "\n",
        "    def __len__(self):\n",
        "        return len(self.image_file_name)\n",
        "\n",
        "\n",
        "def make_dataloaders(\n",
        "    batch_size=32, n_workers=4, shuffle=True, **kwargs):  # A handy function to make our dataloaders\n",
        "    dataset = ESR_Dataset(**kwargs)\n",
        "\n",
        "    pin = torch.cuda.is_available()\n",
        "\n",
        "    dataloader = DataLoader(\n",
        "        dataset,\n",
        "        batch_size=batch_size,\n",
        "        num_workers=n_workers,\n",
        "        pin_memory=pin,\n",
        "        shuffle=shuffle,\n",
        "    )\n",
        "    return dataloader"
      ],
      "execution_count": null,
      "outputs": []
    },
    {
      "cell_type": "code",
      "metadata": {
        "id": "bzplM6mdLcY0"
      },
      "source": [
        "config = {\n",
        "    \"image_size\": 256,\n",
        "    \"batch_size\": 16,\n",
        "    \"start_epoch\": 0,\n",
        "    \"num_epoch\": 100,\n",
        "    \"sample_batch_size\": 1,\n",
        "    \"checkpoint_dir\": \"./checkpoints\",\n",
        "    \"sample_dir\": \"./samples\",\n",
        "    \"workers\": 6,\n",
        "    \"scale_factor\": 4,\n",
        "    \"num_rrdn_blocks\": 23,\n",
        "    \"nf\": 64,\n",
        "    \"gc\": 32,\n",
        "    \"b1\": 0.9,\n",
        "    \"b2\": 0.999,\n",
        "    \"weight_decay\": 1e-2,\n",
        "    # ------ PSNR ------\n",
        "    \"p_lr\": 2e-4,\n",
        "    \"p_decay_iter\": [25, 50, 75],\n",
        "    \"p_perceptual_loss_factor\": 0,\n",
        "    \"p_adversarial_loss_factor\": 0,\n",
        "    \"p_content_loss_factor\": 1,\n",
        "    # ------------------\n",
        "    # ------ ADVR ------\n",
        "    \"g_lr\": 1e-4,\n",
        "    \"g_decay_iter\": [25, 50, 75],\n",
        "    \"g_perceptual_loss_factor\": 1,\n",
        "    \"g_adversarial_loss_factor\": 5e-3,\n",
        "    \"g_content_loss_factor\": 1e-2,\n",
        "    # ------------------\n",
        "    \"is_psnr_oriented\": True,\n",
        "    \"load_previous_opt\": True,\n",
        "}"
      ],
      "execution_count": null,
      "outputs": []
    },
    {
      "cell_type": "code",
      "metadata": {
        "id": "zhK2pE3rIsgM",
        "cellView": "form"
      },
      "source": [
        "#@title Create Dataloader\n",
        "training_images =  9000#@param {type:\"integer\"}\n",
        "validation_images =  -1#@param {type:\"integer\"}\n",
        "\n",
        "\n",
        "esr_dataloader_train = make_dataloaders(batch_size=config[\"batch_size\"], \n",
        "                                        n_workers=config[\"workers\"], \n",
        "                                        shuffle=True, \n",
        "                                        num_images=training_images, \n",
        "                                        path=r\"./images/train\", \n",
        "                                        train=True)\n",
        "\n",
        "esr_dataloader_val = make_dataloaders(batch_size=config[\"batch_size\"],\n",
        "                                      n_workers=config[\"workers\"], \n",
        "                                      shuffle=False, \n",
        "                                      num_images=validation_images, \n",
        "                                      path=r\"./images/valid\", \n",
        "                                      train=False)"
      ],
      "execution_count": null,
      "outputs": []
    },
    {
      "cell_type": "code",
      "metadata": {
        "id": "L7l_S6LYN_3d",
        "cellView": "form"
      },
      "source": [
        "#@title reload\n",
        "import trainer\n",
        "import models\n",
        "import utils\n",
        "\n",
        "importlib.reload(utils)\n",
        "importlib.reload(models)\n",
        "importlib.reload(trainer)\n",
        "\n",
        "if not os.path.exists(config[\"sample_dir\"]):\n",
        "    os.makedirs(config[\"sample_dir\"])"
      ],
      "execution_count": null,
      "outputs": []
    },
    {
      "cell_type": "code",
      "metadata": {
        "id": "rz-zIwZN6FLG"
      },
      "source": [
        "import wandb\r\n",
        "wandb.init(project=\"esrgan-pytorch\")"
      ],
      "execution_count": null,
      "outputs": []
    },
    {
      "cell_type": "code",
      "metadata": {
        "id": "LAJ9rhXZgm9J"
      },
      "source": [
        "config[\"start_epoch\"] = 1\n",
        "config[\"num_epoch\"] = 100 - config[\"start_epoch\"] + 1\n",
        "\n",
        "config[\"num_rrdn_blocks\"] = 23\n",
        "config[\"nf\"] = 64\n",
        "\n",
        "config['p_decay_iter'] = [25, 50, 75]\n",
        "# config['g_decay_iter'] = [25, 50, 75]\n",
        "\n",
        "config[\"is_psnr_oriented\"] = True\n",
        "config[\"load_previous_opt\"] = False\n",
        "\n",
        "\n",
        "hyperparams = wandb.config\n",
        "hyperparams.epochs = config[\"num_epoch\"]\n",
        "hyperparams.RRDN = config[\"num_rrdn_blocks\"]\n",
        "hyperparams.nf = config[\"nf\"]\n",
        "hyperparams.psnr_oriented = config[\"is_psnr_oriented\"]\n",
        "hyperparams.p_decay_iter = config[\"p_decay_iter\"]\n",
        "hyperparams.g_decay_iter = config[\"g_decay_iter\"]"
      ],
      "execution_count": null,
      "outputs": []
    },
    {
      "cell_type": "markdown",
      "metadata": {
        "id": "LpxQJarOTNcQ"
      },
      "source": [
        "* **Warmup Training - PSNR: 25.485, SSIM: 0.7215**\r\n",
        "* Bicubic Upscale - PSNR: 25.51, SSIM:0.7185\r\n",
        "\r\n",
        "\r\n",
        "---\r\n",
        "\r\n",
        "\r\n",
        "* BEST Epoch: 93 -> Dis loss: 0.0093 Gen loss: 1.2519 Per loss:: 1.2265 Adv loss:: 0.0236 Con loss:: 0.0018\r\n",
        "Validation Set: PSNR: 24.6282, SSIM:0.69\r\n",
        "\r\n",
        "* Epoch: 111 -> Dis loss: 0.0091 Gen loss: 1.2453 Per loss:: 1.2198 Adv loss:: 0.0237 Con loss:: 0.0018\r\n",
        "Validation Set: PSNR: 24.6078, SSIM:0.6922\r\n",
        "Bicubic Ups: PSNR: 25.5098, SSIM:0.7185\r\n",
        "\r\n",
        "\r\n",
        "---\r\n",
        "\r\n",
        "\r\n",
        "\r\n",
        "* Best Epoch: 120 -> Dis loss: 0.0089 Gen loss: 1.2454 Per loss:: 1.2198 Adv loss:: 0.0238 Con loss:: 0.0018\r\n",
        "Validation Set: PSNR: 24.6125, SSIM:0.6957\r\n",
        "Bicubic Ups: PSNR: 25.51, SSIM:0.7182\r\n",
        "Best val scores  till epoch 120 -> PSNR: 24.6195, SSIM: 0.6957\r\n"
      ]
    },
    {
      "cell_type": "code",
      "metadata": {
        "id": "ZFos0mSagYfa",
        "cellView": "form"
      },
      "source": [
        "#@title training\n",
        "\n",
        "import gc\n",
        "\n",
        "torch.cuda.empty_cache()\n",
        "gc.collect()\n",
        "\n",
        "for key, value in config.items():\n",
        "    print(f\"{key:30}: {value}\")\n",
        "\n",
        "print(\"\\n\\n\")\n",
        "print(f\"ESRGAN start\")\n",
        "\n",
        "model = trainer.Trainer(\n",
        "    config, esr_dataloader_train, esr_dataloader_val, device)\n",
        "model_metrics = model.train()"
      ],
      "execution_count": null,
      "outputs": []
    },
    {
      "cell_type": "code",
      "metadata": {
        "id": "z-etORzSZGeC",
        "cellView": "form"
      },
      "source": [
        "#@title Testing Images\n",
        "\n",
        "import cv2\n",
        "from google.colab.patches import cv2_imshow\n",
        "import numpy as np\n",
        "import models\n",
        "import importlib\n",
        "importlib.reload(models)\n",
        "\n",
        "checkpoint_number = 9\n",
        "\n",
        "checkpoint = torch.load(rf\"/content/checkpoint_{checkpoint_number}.tar\")\n",
        "Model = models.Generator(channels=3, nf=32, gc=32, num_res_blocks=11, scale=4)\n",
        "Model.load_state_dict(checkpoint[rf\"generator_dict_{checkpoint_number}\"])\n",
        "Model.to(device)\n",
        "# print(\"Generator weights loaded.\")\n",
        "\n",
        "\n",
        "image_path = r\"/content/images/lr/00000.png\"\n",
        "\n",
        "\n",
        "def test_image(image_path, model):\n",
        "\n",
        "    image = cv2.imread(image_path, cv2.IMREAD_COLOR)\n",
        "    cv2_imshow(image)\n",
        "    image = image // 255.0\n",
        "    image= image.astype(np.float32)\n",
        "\n",
        "    image = np.moveaxis(image, (0, 1, 2), (1, 2, 0))\n",
        "    image = torch.from_numpy(np.expand_dims(image, 0))\n",
        "    with torch.no_grad():\n",
        "        # with torch.cuda.amp.autocast():\n",
        "        high_res = model(image.to(device))\n",
        "    \n",
        "    high_res = high_res.cpu().detach().permute(0, 2, 3, 1).numpy()\n",
        "    cv2_imshow(high_res[0] * 255.0)\n",
        "    print(high_res.shape)\n",
        "\n",
        "test_image(image_path, Model)\n",
        "\n",
        "\n",
        "# Model.eval()\n",
        "# with torch.no_grad():\n",
        "# with torch.cuda.amp.autocast(enabled=False):\n",
        "    # out = Model(image)"
      ],
      "execution_count": null,
      "outputs": []
    },
    {
      "cell_type": "code",
      "metadata": {
        "id": "zHlfofzaZGhq"
      },
      "source": [
        "# !rm -rf /content/samples\n",
        "# !rm -rf /content/drive/MyDrive/Project-ESRGAN\n",
        "# !rm -rf checkpoint*"
      ],
      "execution_count": null,
      "outputs": []
    },
    {
      "cell_type": "code",
      "metadata": {
        "id": "QbIWVJuteF0B"
      },
      "source": [
        ""
      ],
      "execution_count": null,
      "outputs": []
    }
  ]
}